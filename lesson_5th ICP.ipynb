{
 "cells": [
  {
   "cell_type": "code",
   "execution_count": 6,
   "metadata": {},
   "outputs": [],
   "source": [
    "import numpy as np\n",
    "np.random.seed(1338)\n",
    "\n",
    "from keras.datasets import mnist\n",
    "\n",
    "from keras.models import Sequential\n",
    "from keras.layers.core import Dense, Flatten, Dropout, Activation\n",
    "from keras.layers.convolutional import Conv2D\n",
    "from keras.layers.pooling import MaxPooling2D\n",
    "from keras.utils import np_utils\n",
    "from keras.optimizers import SGD\n",
    "\n",
    "\n",
    "(x_train, y_train), (x_test, y_test) = mnist.load_data()\n",
    "x_test_orig = x_test\n",
    "from keras import backend as k\n",
    "\n",
    "img_rows, img_cols = x_train.shape[1:]\n",
    "if k.image_data_format == 'channels_first':\n",
    "    shape_ord = (1, img_rows, img_cols)\n",
    "else:\n",
    "    shape_ord = (img_rows, img_cols, 1)\n",
    "    \n",
    "    \n",
    "x_train = x_train.reshape((x_train.shape[0],) + shape_ord)\n",
    "x_test = x_test.reshape((x_test.shape[0],) + shape_ord)\n",
    "\n",
    "x_train = x_train.astype('float32')\n",
    "x_test = x_test.astype('float32')\n",
    "\n",
    "x_train /= 255.0\n",
    "x_test /= 255.0\n",
    "\n",
    "\n",
    "y_train =np_utils.to_categorical(y_train, 10) \n",
    "y_test = np_utils.to_categorical(y_test, 10)\n",
    "\n",
    "\n",
    "from sklearn.model_selection import train_test_split\n",
    "\n",
    "x_train, x_val, y_train, y_val = train_test_split(x_train, y_train)\n"
   ]
  },
  {
   "cell_type": "code",
   "execution_count": 7,
   "metadata": {},
   "outputs": [
    {
     "name": "stdout",
     "output_type": "stream",
     "text": [
      "Train on 45000 samples, validate on 15000 samples\n",
      "Epoch 1/5\n",
      "45000/45000 [==============================] - 387s 9ms/step - loss: 2.3070 - acc: 0.1038 - val_loss: 2.3018 - val_acc: 0.0995\n",
      "Epoch 2/5\n",
      "45000/45000 [==============================] - 389s 9ms/step - loss: 2.3048 - acc: 0.1070 - val_loss: 2.3027 - val_acc: 0.1152\n",
      "Epoch 3/5\n",
      "45000/45000 [==============================] - 398s 9ms/step - loss: 2.3048 - acc: 0.1043 - val_loss: 2.3026 - val_acc: 0.0975\n",
      "Epoch 4/5\n",
      "45000/45000 [==============================] - 430s 10ms/step - loss: 2.3048 - acc: 0.1043 - val_loss: 2.3061 - val_acc: 0.1152\n",
      "Epoch 5/5\n",
      "45000/45000 [==============================] - 388s 9ms/step - loss: 2.3046 - acc: 0.1042 - val_loss: 2.3031 - val_acc: 0.0985\n"
     ]
    }
   ],
   "source": [
    "import matplotlib.pyplot as plt\n",
    "%matplotlib inline\n",
    "import time\n",
    "from tensorflow.keras.callbacks import TensorBoard\n",
    "epochs = 5\n",
    "batch_size = 64\n",
    "filter_size = 3\n",
    "pool_size = 2\n",
    "\n",
    "conv_layers = 6\n",
    "dense_layers = 3\n",
    "\n",
    "NAME=\"{}-conv-{}-dense-{}\".format(conv_layers, dense_layers, int(time.time()))\n",
    "tensorboard = TensorBoard(log_dir='CNN_ICP_5/{}'.format(NAME))\n",
    "\n",
    "sgd = SGD(lr=0.1, decay=1e-6, momentum=0.9, nesterov=True)\n",
    "\n",
    "\n",
    "model = Sequential()\n",
    "model.add(Conv2D(32, (filter_size, filter_size), padding='same', input_shape=x_train.shape[1:]))\n",
    "model.add(Activation('relu'))\n",
    "model.add(Dropout(0.2))\n",
    "model.add(Conv2D(32, (filter_size, filter_size), padding='same'))\n",
    "model.add(Activation('relu'))\n",
    "model.add(MaxPooling2D(pool_size=(pool_size, pool_size)))\n",
    "\n",
    "model.add(Conv2D(64, (filter_size, filter_size), padding='same'))\n",
    "model.add(Activation('relu'))\n",
    "model.add(Dropout(0.2))\n",
    "model.add(Conv2D(64, (filter_size, filter_size), padding='same'))\n",
    "model.add(Activation('relu'))\n",
    "model.add(MaxPooling2D(pool_size=(pool_size, pool_size)))\n",
    "\n",
    "model.add(Conv2D(128, (filter_size, filter_size), padding='same'))\n",
    "model.add(Activation('relu'))\n",
    "model.add(Dropout(0.2))\n",
    "model.add(Conv2D(128, (filter_size, filter_size), padding='same'))\n",
    "model.add(Activation('relu'))\n",
    "model.add(MaxPooling2D(pool_size=(pool_size, pool_size)))\n",
    "\n",
    "model.add(Flatten())\n",
    "model.add(Dropout(0.2))\n",
    "model.add(Dense(1024))\n",
    "model.add(Activation('relu'))\n",
    "model.add(Dropout(0.2))\n",
    "model.add(Dense(512))\n",
    "model.add(Activation('relu'))\n",
    "model.add(Dropout(0.2))\n",
    "model.add(Dense(10))\n",
    "model.add(Activation('softmax'))\n",
    "\n",
    "model.compile(optimizer=sgd, loss='categorical_crossentropy', metrics=['accuracy'])\n",
    "\n",
    "history = model.fit(x_train, y_train, epochs=epochs, batch_size=batch_size, validation_data=(x_val, y_val), verbose=1, callbacks=[tensorboard])\n",
    "\n"
   ]
  },
  {
   "cell_type": "code",
   "execution_count": 8,
   "metadata": {},
   "outputs": [
    {
     "name": "stdout",
     "output_type": "stream",
     "text": [
      "2.3032746505737305\n",
      "0.0974\n"
     ]
    }
   ],
   "source": [
    "loss, accuracy =model.evaluate(x_test, y_test, verbose=0)\n",
    "print(loss)\n",
    "print(accuracy)\n"
   ]
  },
  {
   "cell_type": "code",
   "execution_count": 17,
   "metadata": {},
   "outputs": [
    {
     "name": "stdout",
     "output_type": "stream",
     "text": [
      "5/5 [==============================] - 0s 2ms/step\n",
      "[8 8 8 8 8]\n",
      "[8 8 8 8 8]\n"
     ]
    }
   ],
   "source": [
    "slice = 5\n",
    "\n",
    "predicted = model.predict(x_test[:slice]).argmax(-1)\n",
    "actual = model.predict_classes(x_test[:slice], verbose=1)\n",
    "print(actual)\n",
    "\n",
    "print(predicted)"
   ]
  },
  {
   "cell_type": "code",
   "execution_count": 10,
   "metadata": {},
   "outputs": [
    {
     "ename": "NameError",
     "evalue": "name 'decode_predictions' is not defined",
     "output_type": "error",
     "traceback": [
      "\u001b[1;31m---------------------------------------------------------------------------\u001b[0m",
      "\u001b[1;31mNameError\u001b[0m                                 Traceback (most recent call last)",
      "\u001b[1;32m<ipython-input-10-f3d8ded8df64>\u001b[0m in \u001b[0;36m<module>\u001b[1;34m\u001b[0m\n\u001b[1;32m----> 1\u001b[1;33m \u001b[0mlabel\u001b[0m \u001b[1;33m=\u001b[0m \u001b[0mdecode_predictions\u001b[0m\u001b[1;33m(\u001b[0m\u001b[0mpredicted\u001b[0m\u001b[1;33m)\u001b[0m\u001b[1;33m\u001b[0m\u001b[0m\n\u001b[0m\u001b[0;32m      2\u001b[0m \u001b[0mprint\u001b[0m \u001b[1;33m(\u001b[0m\u001b[0mlabel\u001b[0m\u001b[1;33m)\u001b[0m\u001b[1;33m\u001b[0m\u001b[0m\n",
      "\u001b[1;31mNameError\u001b[0m: name 'decode_predictions' is not defined"
     ]
    }
   ],
   "source": []
  }
 ],
 "metadata": {
  "kernelspec": {
   "display_name": "Python 3",
   "language": "python",
   "name": "python3"
  },
  "language_info": {
   "codemirror_mode": {
    "name": "ipython",
    "version": 3
   },
   "file_extension": ".py",
   "mimetype": "text/x-python",
   "name": "python",
   "nbconvert_exporter": "python",
   "pygments_lexer": "ipython3",
   "version": "3.5.2"
  }
 },
 "nbformat": 4,
 "nbformat_minor": 2
}
